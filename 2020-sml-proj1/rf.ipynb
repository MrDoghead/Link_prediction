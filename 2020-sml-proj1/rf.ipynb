{
 "cells": [
  {
   "cell_type": "code",
   "execution_count": 87,
   "metadata": {},
   "outputs": [],
   "source": [
    "import pickle as pkl\n",
    "import pandas as pd\n",
    "import csv\n",
    "import random\n",
    "from tqdm import tqdm\n",
    "from sklearn.model_selection import train_test_split\n",
    "from sklearn.preprocessing import StandardScaler\n",
    "from sklearn.decomposition import PCA\n",
    "from sklearn.ensemble import RandomForestRegressor\n",
    "from sklearn.pipeline import Pipeline\n",
    "from sklearn.model_selection import GridSearchCV\n",
    "from sklearn.metrics import roc_curve, auc, mean_squared_error,roc_auc_score"
   ]
  },
  {
   "cell_type": "code",
   "execution_count": 7,
   "metadata": {},
   "outputs": [],
   "source": [
    "def read_from_pkl(path):\n",
    "    with open(path,'rb') as f:\n",
    "        data = pkl.load(f)\n",
    "    return data"
   ]
  },
  {
   "cell_type": "code",
   "execution_count": 8,
   "metadata": {},
   "outputs": [],
   "source": [
    "def save_as_pkl(data,path):\n",
    "    with open(path,'wb') as f:\n",
    "        pkl.dump(data,f,protocol=pkl.HIGHEST_PROTOCOL)\n",
    "    print(path,'saved..')"
   ]
  },
  {
   "cell_type": "code",
   "execution_count": 9,
   "metadata": {},
   "outputs": [],
   "source": [
    "def save_as_csv(result,path):\n",
    "    headers = ['id','Predicted']\n",
    "    with open(path, 'w', encoding = 'utf8') as f:\n",
    "        f_csv = csv.writer(f)\n",
    "        f_csv.writerow(headers)\n",
    "        f_csv.writerows(result)\n",
    "    print(path,'saved...')"
   ]
  },
  {
   "cell_type": "code",
   "execution_count": 10,
   "metadata": {},
   "outputs": [],
   "source": [
    "train_data1 = read_from_pkl('./data/train_19_features.pkl')\n",
    "train_data2 = read_from_pkl('./data/train_13_features.pkl')\n",
    "train_data1 = pd.DataFrame(train_data1).T\n",
    "train_data2 = pd.DataFrame(train_data2).T\n",
    "labels = train_data1.iloc[:,0]"
   ]
  },
  {
   "cell_type": "code",
   "execution_count": 119,
   "metadata": {},
   "outputs": [
    {
     "output_type": "execute_result",
     "data": {
      "text/plain": "                3            4           5         6       7         8  \\\ntrain-0   20.7752   0.00887762    0.504525   1.70529  6355.5   18.4085   \ntrain-1   11.1955    0.0049507    0.269746  0.915855  5785.5   9.28548   \ntrain-2   20.7846   0.00892449    0.505882   1.73502    4902   18.4105   \ntrain-3  0.253102  0.000106213  0.00488729  0.025359  314247  0.105516   \ntrain-4   40.6251    0.0175439           1   3.37639    3249   36.3094   \n\n                9          10         11         12       13         14  \ntrain-0  0.252094    0.322956   0.357477          0  230.316  0.0177552  \ntrain-1  0.415673   0.0553785  0.0912004   0.264945  1381.89   0.108107  \ntrain-2  0.252614     0.32299   0.357548          0  230.316   0.017849  \ntrain-3   41.0383  0.00011231  0.0178255  0.0839517   684268    18.3549  \ntrain-4  0.245246    0.637007   0.637007          0  115.158  0.0175439  ",
      "text/html": "<div>\n<style scoped>\n    .dataframe tbody tr th:only-of-type {\n        vertical-align: middle;\n    }\n\n    .dataframe tbody tr th {\n        vertical-align: top;\n    }\n\n    .dataframe thead th {\n        text-align: right;\n    }\n</style>\n<table border=\"1\" class=\"dataframe\">\n  <thead>\n    <tr style=\"text-align: right;\">\n      <th></th>\n      <th>3</th>\n      <th>4</th>\n      <th>5</th>\n      <th>6</th>\n      <th>7</th>\n      <th>8</th>\n      <th>9</th>\n      <th>10</th>\n      <th>11</th>\n      <th>12</th>\n      <th>13</th>\n      <th>14</th>\n    </tr>\n  </thead>\n  <tbody>\n    <tr>\n      <th>train-0</th>\n      <td>20.7752</td>\n      <td>0.00887762</td>\n      <td>0.504525</td>\n      <td>1.70529</td>\n      <td>6355.5</td>\n      <td>18.4085</td>\n      <td>0.252094</td>\n      <td>0.322956</td>\n      <td>0.357477</td>\n      <td>0</td>\n      <td>230.316</td>\n      <td>0.0177552</td>\n    </tr>\n    <tr>\n      <th>train-1</th>\n      <td>11.1955</td>\n      <td>0.0049507</td>\n      <td>0.269746</td>\n      <td>0.915855</td>\n      <td>5785.5</td>\n      <td>9.28548</td>\n      <td>0.415673</td>\n      <td>0.0553785</td>\n      <td>0.0912004</td>\n      <td>0.264945</td>\n      <td>1381.89</td>\n      <td>0.108107</td>\n    </tr>\n    <tr>\n      <th>train-2</th>\n      <td>20.7846</td>\n      <td>0.00892449</td>\n      <td>0.505882</td>\n      <td>1.73502</td>\n      <td>4902</td>\n      <td>18.4105</td>\n      <td>0.252614</td>\n      <td>0.32299</td>\n      <td>0.357548</td>\n      <td>0</td>\n      <td>230.316</td>\n      <td>0.017849</td>\n    </tr>\n    <tr>\n      <th>train-3</th>\n      <td>0.253102</td>\n      <td>0.000106213</td>\n      <td>0.00488729</td>\n      <td>0.025359</td>\n      <td>314247</td>\n      <td>0.105516</td>\n      <td>41.0383</td>\n      <td>0.00011231</td>\n      <td>0.0178255</td>\n      <td>0.0839517</td>\n      <td>684268</td>\n      <td>18.3549</td>\n    </tr>\n    <tr>\n      <th>train-4</th>\n      <td>40.6251</td>\n      <td>0.0175439</td>\n      <td>1</td>\n      <td>3.37639</td>\n      <td>3249</td>\n      <td>36.3094</td>\n      <td>0.245246</td>\n      <td>0.637007</td>\n      <td>0.637007</td>\n      <td>0</td>\n      <td>115.158</td>\n      <td>0.0175439</td>\n    </tr>\n  </tbody>\n</table>\n</div>"
     },
     "metadata": {},
     "execution_count": 119
    }
   ],
   "source": [
    "#train1 = train_data1.iloc[:,3:]\n",
    "#train2 = train_data2.iloc[:,2:]\n",
    "#samples = pd.concat([train1,train2],axis=1,ignore_index=True)\n",
    "samples = train_data2.iloc[:,3:]\n",
    "samples.iloc[:5]"
   ]
  },
  {
   "cell_type": "code",
   "execution_count": 111,
   "metadata": {},
   "outputs": [],
   "source": [
    "# samples = samples.drop([5,9,10,11,12,13,14,15,17,18,19,21,22,23,26],axis=1) # rm all+in\n",
    "# samples = samples.drop([5,17,18,19,20,21,22,26],axis=1) # rm in\n",
    "#samples = samples.drop([17,18,19,20,21,22],axis=1) # rm in"
   ]
  },
  {
   "cell_type": "code",
   "execution_count": 120,
   "metadata": {},
   "outputs": [
    {
     "output_type": "execute_result",
     "data": {
      "text/plain": "(360000, 12)"
     },
     "metadata": {},
     "execution_count": 120
    }
   ],
   "source": [
    "samples.shape"
   ]
  },
  {
   "cell_type": "code",
   "execution_count": 113,
   "metadata": {
    "tags": []
   },
   "outputs": [
    {
     "output_type": "stream",
     "name": "stdout",
     "text": "x:          0   1   2   3   4   5   6   7   8         9   ...     13    14  \\\ntrain-0  57   5  57   2   2   0  59   7  57  0.000000  ...  114.0  59.0   \ntrain-1  57   5  57  12   4  12  69   9  69  0.825197  ...  684.0  80.0   \ntrain-2  57   5  57   2   2   0  59   7  57  0.000000  ...  114.0  59.0   \n\n               15        16        23        24        25        26  \\\ntrain-0  0.000000  0.000000  0.252094  0.322956  0.357477  0.000000   \ntrain-1  0.340852  0.002924  0.415673  0.055379  0.091200  0.264945   \ntrain-2  0.000000  0.000000  0.252614  0.322990  0.357548  0.000000   \n\n                  27        28  \ntrain-0   230.315789  0.017755  \ntrain-1  1381.894737  0.108107  \ntrain-2   230.315789  0.017849  \n\n[3 rows x 23 columns]\ny: train-0    1\ntrain-1    1\ntrain-2    1\nName: 0, dtype: int64\n"
    }
   ],
   "source": [
    "'''\n",
    "samples = samples.astype(float)\n",
    "samples[[0,1,2,3,4,5,6,7,8]] = samples[[0,1,2,3,4,5,6,7,8]].astype(int)\n",
    "labels = labels.astype(int)\n",
    "print('x:',samples.head(3))\n",
    "print('y:',labels.head(3))\n",
    "'''"
   ]
  },
  {
   "cell_type": "code",
   "execution_count": 47,
   "metadata": {},
   "outputs": [
    {
     "output_type": "execute_result",
     "data": {
      "text/plain": "array([[5.70000000e+01, 5.00000000e+00, 5.70000000e+01, ...,\n        2.52093830e-01, 2.30315789e+02, 1.77552315e-02],\n       [5.70000000e+01, 5.00000000e+00, 5.70000000e+01, ...,\n        4.15672665e-01, 1.38189474e+03, 1.08106876e-01],\n       [5.70000000e+01, 5.00000000e+00, 5.70000000e+01, ...,\n        2.52614066e-01, 2.30315789e+02, 1.78489703e-02],\n       ...,\n       [3.70200000e+03, 1.95000000e+02, 3.70000000e+03, ...,\n        5.39170399e-02, 4.45814703e+03, 1.11008130e-05],\n       [3.70200000e+03, 1.95000000e+02, 3.70000000e+03, ...,\n        2.79430115e-02, 4.45814703e+03, 9.36774002e-07],\n       [3.70200000e+03, 1.95000000e+02, 3.70000000e+03, ...,\n        6.44325790e-02, 1.56035146e+04, 1.98487023e-05]])"
     },
     "metadata": {},
     "execution_count": 47
    }
   ],
   "source": [
    "# feature selection\n",
    "#from sklearn.feature_selection import VarianceThreshold\n",
    "#sel = VarianceThreshold(threshold=(.6 * (1 - .6)))\n",
    "#sel.fit_transform(samples)"
   ]
  },
  {
   "cell_type": "code",
   "execution_count": 121,
   "metadata": {},
   "outputs": [
    {
     "output_type": "execute_result",
     "data": {
      "text/plain": "(360000, 12)"
     },
     "metadata": {},
     "execution_count": 121
    }
   ],
   "source": [
    "samples.shape"
   ]
  },
  {
   "cell_type": "code",
   "execution_count": 122,
   "metadata": {},
   "outputs": [],
   "source": [
    "# split train & val\n",
    "train_x,val_x,train_y,val_y = train_test_split(samples,labels,test_size=0.3)"
   ]
  },
  {
   "cell_type": "code",
   "execution_count": 123,
   "metadata": {
    "tags": []
   },
   "outputs": [
    {
     "output_type": "stream",
     "name": "stdout",
     "text": "train shape: (252000, 12)\nval shape: (108000, 12)\n"
    }
   ],
   "source": [
    "print('train shape:',train_x.shape)\n",
    "print('val shape:',val_x.shape)"
   ]
  },
  {
   "cell_type": "code",
   "execution_count": 124,
   "metadata": {
    "tags": []
   },
   "outputs": [
    {
     "output_type": "stream",
     "name": "stdout",
     "text": "[-0.03051135 -0.13801379 -0.39404723 -0.36375751 -0.05176578 -0.020069\n  0.00937153 -0.30506242  0.23281982  0.9845342  -0.02635507 -0.01471842]\n[-0.02859016 -0.23680862 -0.42811346 -0.37857345 -0.03736607 -0.01986113\n -0.03368085 -0.29252826 -0.52334517 -0.24608051 -0.02878386 -0.02696611]\n"
    }
   ],
   "source": [
    "# standardize\n",
    "scaler = StandardScaler()\n",
    "scaler.fit(train_x)\n",
    "train_x = scaler.transform(train_x)\n",
    "val_x = scaler.transform(val_x)\n",
    "print(train_x[0])\n",
    "print(val_x[0])"
   ]
  },
  {
   "cell_type": "code",
   "execution_count": 125,
   "metadata": {
    "tags": []
   },
   "outputs": [
    {
     "output_type": "stream",
     "name": "stdout",
     "text": "Fitting 3 folds for each of 1 candidates, totalling 3 fits\n[Parallel(n_jobs=-1)]: Using backend LokyBackend with 8 concurrent workers.\n[Parallel(n_jobs=-1)]: Done   3 out of   3 | elapsed:  1.8min finished\nBest score: 1.000\nBest parameters set:\n\tclf__n_estimators: 100\n./rf_best_parameters_12.pkl saved..\nmean_squared_error: 0.0009806898148148149\nAuc: 0.9997740643007227\n"
    }
   ],
   "source": [
    "# grid search cv\n",
    "pipeline = Pipeline([\n",
    "    ('clf', RandomForestRegressor(criterion='mse'))\n",
    "])\n",
    "parameters = {\n",
    "       'clf__n_estimators': [100],\n",
    "       #'clf__max_depth': [50],\n",
    "       #'clf__min_samples_split': [1000],\n",
    "       #'clf__min_samples_leaf': [1000],\n",
    "}\n",
    "grid_search = GridSearchCV(pipeline,parameters,n_jobs=-1,verbose=1,cv=3,scoring='roc_auc')\n",
    "grid_search.fit(train_x,train_y)\n",
    "print('Best score: %0.3f' % grid_search.best_score_)\n",
    "print('Best parameters set:')\n",
    "best_parameters = grid_search.best_estimator_.get_params()\n",
    "for param_name in sorted(parameters.keys()):\n",
    "    print('\\t%s: %r' % (param_name, best_parameters[param_name]))\n",
    "save_as_pkl(best_parameters,'./rf_best_parameters_12.pkl')\n",
    "\n",
    "val_pred = grid_search.predict(val_x)\n",
    "fpr, tpr, thresholds = roc_curve(val_y, val_pred, pos_label=1)\n",
    "print('mean_squared_error:', mean_squared_error(val_y, val_pred))\n",
    "print('Auc:',auc(fpr, tpr))"
   ]
  },
  {
   "cell_type": "code",
   "execution_count": 136,
   "metadata": {},
   "outputs": [
    {
     "output_type": "execute_result",
     "data": {
      "text/plain": "RandomForestClassifier()"
     },
     "metadata": {},
     "execution_count": 136
    }
   ],
   "source": [
    "from sklearn.ensemble import RandomForestClassifier\n",
    "rf = RandomForestClassifier()\n",
    "rf.fit(train_x,train_y)\n"
   ]
  },
  {
   "cell_type": "code",
   "execution_count": 140,
   "metadata": {
    "tags": []
   },
   "outputs": [
    {
     "output_type": "stream",
     "name": "stdout",
     "text": "auc: 0.9999309623962607\n"
    }
   ],
   "source": [
    "val_pred = rf.predict_proba(val_x)[:,1]\n",
    "auc = roc_auc_score(val_y,val_pred)\n",
    "print('auc:',auc)"
   ]
  },
  {
   "cell_type": "code",
   "execution_count": 100,
   "metadata": {},
   "outputs": [],
   "source": [
    "# prediction\n",
    "test_data1 = read_from_pkl('./data/test_19_features.pkl')\n",
    "test_data2 = read_from_pkl('./data/test_13_features.pkl')\n",
    "test_data1 = pd.DataFrame(test_data1).T\n",
    "test_data2 = pd.DataFrame(test_data2).T\n"
   ]
  },
  {
   "cell_type": "code",
   "execution_count": 77,
   "metadata": {},
   "outputs": [
    {
     "output_type": "execute_result",
     "data": {
      "text/plain": "  0        1        2    3   4    5   6   7  8    9  10   11        12  \\\n1    3563811  3600160   23   3   21  29  29  0   52  32   21         0   \n2    2052043  1401960   74  13   71   9   9  0   83  22   71         0   \n3    4517994  1690636  255  80  205  17  17  0  272  97  205  0.462508   \n4    1660006  4349447  511  32  506  36  36  0  547  68  506  0.178805   \n5     581111  1882617   21   5   18  46  46  0   67  51   18         0   \n\n        13          14         15     16    17           18  \n1  47.7849           0          0    667    27            0  \n2  49.5286           0          0    666    31            0  \n3  356.919   0.0111524  0.0508183   4335   356   0.00462379  \n4  1223.15  0.00366972  0.0148185  18396  1847  2.80927e-05  \n5  75.4785           0          0    966    54            0  ",
      "text/html": "<div>\n<style scoped>\n    .dataframe tbody tr th:only-of-type {\n        vertical-align: middle;\n    }\n\n    .dataframe tbody tr th {\n        vertical-align: top;\n    }\n\n    .dataframe thead th {\n        text-align: right;\n    }\n</style>\n<table border=\"1\" class=\"dataframe\">\n  <thead>\n    <tr style=\"text-align: right;\">\n      <th></th>\n      <th>0</th>\n      <th>1</th>\n      <th>2</th>\n      <th>3</th>\n      <th>4</th>\n      <th>5</th>\n      <th>6</th>\n      <th>7</th>\n      <th>8</th>\n      <th>9</th>\n      <th>10</th>\n      <th>11</th>\n      <th>12</th>\n      <th>13</th>\n      <th>14</th>\n      <th>15</th>\n      <th>16</th>\n      <th>17</th>\n      <th>18</th>\n    </tr>\n  </thead>\n  <tbody>\n    <tr>\n      <th>1</th>\n      <td></td>\n      <td>3563811</td>\n      <td>3600160</td>\n      <td>23</td>\n      <td>3</td>\n      <td>21</td>\n      <td>29</td>\n      <td>29</td>\n      <td>0</td>\n      <td>52</td>\n      <td>32</td>\n      <td>21</td>\n      <td>0</td>\n      <td>47.7849</td>\n      <td>0</td>\n      <td>0</td>\n      <td>667</td>\n      <td>27</td>\n      <td>0</td>\n    </tr>\n    <tr>\n      <th>2</th>\n      <td></td>\n      <td>2052043</td>\n      <td>1401960</td>\n      <td>74</td>\n      <td>13</td>\n      <td>71</td>\n      <td>9</td>\n      <td>9</td>\n      <td>0</td>\n      <td>83</td>\n      <td>22</td>\n      <td>71</td>\n      <td>0</td>\n      <td>49.5286</td>\n      <td>0</td>\n      <td>0</td>\n      <td>666</td>\n      <td>31</td>\n      <td>0</td>\n    </tr>\n    <tr>\n      <th>3</th>\n      <td></td>\n      <td>4517994</td>\n      <td>1690636</td>\n      <td>255</td>\n      <td>80</td>\n      <td>205</td>\n      <td>17</td>\n      <td>17</td>\n      <td>0</td>\n      <td>272</td>\n      <td>97</td>\n      <td>205</td>\n      <td>0.462508</td>\n      <td>356.919</td>\n      <td>0.0111524</td>\n      <td>0.0508183</td>\n      <td>4335</td>\n      <td>356</td>\n      <td>0.00462379</td>\n    </tr>\n    <tr>\n      <th>4</th>\n      <td></td>\n      <td>1660006</td>\n      <td>4349447</td>\n      <td>511</td>\n      <td>32</td>\n      <td>506</td>\n      <td>36</td>\n      <td>36</td>\n      <td>0</td>\n      <td>547</td>\n      <td>68</td>\n      <td>506</td>\n      <td>0.178805</td>\n      <td>1223.15</td>\n      <td>0.00366972</td>\n      <td>0.0148185</td>\n      <td>18396</td>\n      <td>1847</td>\n      <td>2.80927e-05</td>\n    </tr>\n    <tr>\n      <th>5</th>\n      <td></td>\n      <td>581111</td>\n      <td>1882617</td>\n      <td>21</td>\n      <td>5</td>\n      <td>18</td>\n      <td>46</td>\n      <td>46</td>\n      <td>0</td>\n      <td>67</td>\n      <td>51</td>\n      <td>18</td>\n      <td>0</td>\n      <td>75.4785</td>\n      <td>0</td>\n      <td>0</td>\n      <td>966</td>\n      <td>54</td>\n      <td>0</td>\n    </tr>\n  </tbody>\n</table>\n</div>"
     },
     "metadata": {},
     "execution_count": 77
    }
   ],
   "source": [
    "test_data1.iloc[:5]"
   ]
  },
  {
   "cell_type": "code",
   "execution_count": 24,
   "metadata": {},
   "outputs": [
    {
     "output_type": "execute_result",
     "data": {
      "text/plain": "         0        1            2         3            4            5  \\\n1  3563811  3600160            0  0.166192  3.06738e-05   0.00059617   \n2  2052043  1401960            0  0.471572  0.000228642   0.00788548   \n3  4517994  1690636  0.000692042   3.45737  0.000186637    0.0242947   \n4  1660006  4349447  0.000108719   8.61822  7.29712e-06   0.00315172   \n5   581111  1882617            0  0.183293  9.72129e-07  2.04037e-05   \n\n           6            7           8          9           10           11 12  \\\n1  0.0113831  1.01307e+06   0.0234397   0.139785   0.00110861   0.00475634  0   \n2  0.0599194       191422  0.00362802  0.0680789  5.10988e-05  0.000454739  0   \n3   0.146893  1.56987e+06    0.117964   0.206271  0.000554185    0.0069107  0   \n4   0.082303  1.84623e+07    0.321158   0.336062   0.00063456    0.0142708  0   \n5  0.0078426  1.15881e+06  0.00601201   0.235388  0.000329829    0.0063242  0   \n\n        13           14  \n1  7611.81  0.000973567  \n2  9233.75   0.00214473  \n3  12038.8   0.00319814  \n4   141540  0.000248849  \n5  21287.8  4.65595e-05  ",
      "text/html": "<div>\n<style scoped>\n    .dataframe tbody tr th:only-of-type {\n        vertical-align: middle;\n    }\n\n    .dataframe tbody tr th {\n        vertical-align: top;\n    }\n\n    .dataframe thead th {\n        text-align: right;\n    }\n</style>\n<table border=\"1\" class=\"dataframe\">\n  <thead>\n    <tr style=\"text-align: right;\">\n      <th></th>\n      <th>0</th>\n      <th>1</th>\n      <th>2</th>\n      <th>3</th>\n      <th>4</th>\n      <th>5</th>\n      <th>6</th>\n      <th>7</th>\n      <th>8</th>\n      <th>9</th>\n      <th>10</th>\n      <th>11</th>\n      <th>12</th>\n      <th>13</th>\n      <th>14</th>\n    </tr>\n  </thead>\n  <tbody>\n    <tr>\n      <th>1</th>\n      <td>3563811</td>\n      <td>3600160</td>\n      <td>0</td>\n      <td>0.166192</td>\n      <td>3.06738e-05</td>\n      <td>0.00059617</td>\n      <td>0.0113831</td>\n      <td>1.01307e+06</td>\n      <td>0.0234397</td>\n      <td>0.139785</td>\n      <td>0.00110861</td>\n      <td>0.00475634</td>\n      <td>0</td>\n      <td>7611.81</td>\n      <td>0.000973567</td>\n    </tr>\n    <tr>\n      <th>2</th>\n      <td>2052043</td>\n      <td>1401960</td>\n      <td>0</td>\n      <td>0.471572</td>\n      <td>0.000228642</td>\n      <td>0.00788548</td>\n      <td>0.0599194</td>\n      <td>191422</td>\n      <td>0.00362802</td>\n      <td>0.0680789</td>\n      <td>5.10988e-05</td>\n      <td>0.000454739</td>\n      <td>0</td>\n      <td>9233.75</td>\n      <td>0.00214473</td>\n    </tr>\n    <tr>\n      <th>3</th>\n      <td>4517994</td>\n      <td>1690636</td>\n      <td>0.000692042</td>\n      <td>3.45737</td>\n      <td>0.000186637</td>\n      <td>0.0242947</td>\n      <td>0.146893</td>\n      <td>1.56987e+06</td>\n      <td>0.117964</td>\n      <td>0.206271</td>\n      <td>0.000554185</td>\n      <td>0.0069107</td>\n      <td>0</td>\n      <td>12038.8</td>\n      <td>0.00319814</td>\n    </tr>\n    <tr>\n      <th>4</th>\n      <td>1660006</td>\n      <td>4349447</td>\n      <td>0.000108719</td>\n      <td>8.61822</td>\n      <td>7.29712e-06</td>\n      <td>0.00315172</td>\n      <td>0.082303</td>\n      <td>1.84623e+07</td>\n      <td>0.321158</td>\n      <td>0.336062</td>\n      <td>0.00063456</td>\n      <td>0.0142708</td>\n      <td>0</td>\n      <td>141540</td>\n      <td>0.000248849</td>\n    </tr>\n    <tr>\n      <th>5</th>\n      <td>581111</td>\n      <td>1882617</td>\n      <td>0</td>\n      <td>0.183293</td>\n      <td>9.72129e-07</td>\n      <td>2.04037e-05</td>\n      <td>0.0078426</td>\n      <td>1.15881e+06</td>\n      <td>0.00601201</td>\n      <td>0.235388</td>\n      <td>0.000329829</td>\n      <td>0.0063242</td>\n      <td>0</td>\n      <td>21287.8</td>\n      <td>4.65595e-05</td>\n    </tr>\n  </tbody>\n</table>\n</div>"
     },
     "metadata": {},
     "execution_count": 24
    }
   ],
   "source": [
    "test_data2.iloc[:5]"
   ]
  },
  {
   "cell_type": "code",
   "execution_count": 141,
   "metadata": {},
   "outputs": [
    {
     "output_type": "execute_result",
     "data": {
      "text/plain": "          3            4            5          6            7           8  \\\n1  0.166192  3.06738e-05   0.00059617  0.0113831  1.01307e+06   0.0234397   \n2  0.471572  0.000228642   0.00788548  0.0599194       191422  0.00362802   \n3   3.45737  0.000186637    0.0242947   0.146893  1.56987e+06    0.117964   \n4   8.61822  7.29712e-06   0.00315172   0.082303  1.84623e+07    0.321158   \n5  0.183293  9.72129e-07  2.04037e-05  0.0078426  1.15881e+06  0.00601201   \n\n           9           10           11 12       13           14  \n1   0.139785   0.00110861   0.00475634  0  7611.81  0.000973567  \n2  0.0680789  5.10988e-05  0.000454739  0  9233.75   0.00214473  \n3   0.206271  0.000554185    0.0069107  0  12038.8   0.00319814  \n4   0.336062   0.00063456    0.0142708  0   141540  0.000248849  \n5   0.235388  0.000329829    0.0063242  0  21287.8  4.65595e-05  ",
      "text/html": "<div>\n<style scoped>\n    .dataframe tbody tr th:only-of-type {\n        vertical-align: middle;\n    }\n\n    .dataframe tbody tr th {\n        vertical-align: top;\n    }\n\n    .dataframe thead th {\n        text-align: right;\n    }\n</style>\n<table border=\"1\" class=\"dataframe\">\n  <thead>\n    <tr style=\"text-align: right;\">\n      <th></th>\n      <th>3</th>\n      <th>4</th>\n      <th>5</th>\n      <th>6</th>\n      <th>7</th>\n      <th>8</th>\n      <th>9</th>\n      <th>10</th>\n      <th>11</th>\n      <th>12</th>\n      <th>13</th>\n      <th>14</th>\n    </tr>\n  </thead>\n  <tbody>\n    <tr>\n      <th>1</th>\n      <td>0.166192</td>\n      <td>3.06738e-05</td>\n      <td>0.00059617</td>\n      <td>0.0113831</td>\n      <td>1.01307e+06</td>\n      <td>0.0234397</td>\n      <td>0.139785</td>\n      <td>0.00110861</td>\n      <td>0.00475634</td>\n      <td>0</td>\n      <td>7611.81</td>\n      <td>0.000973567</td>\n    </tr>\n    <tr>\n      <th>2</th>\n      <td>0.471572</td>\n      <td>0.000228642</td>\n      <td>0.00788548</td>\n      <td>0.0599194</td>\n      <td>191422</td>\n      <td>0.00362802</td>\n      <td>0.0680789</td>\n      <td>5.10988e-05</td>\n      <td>0.000454739</td>\n      <td>0</td>\n      <td>9233.75</td>\n      <td>0.00214473</td>\n    </tr>\n    <tr>\n      <th>3</th>\n      <td>3.45737</td>\n      <td>0.000186637</td>\n      <td>0.0242947</td>\n      <td>0.146893</td>\n      <td>1.56987e+06</td>\n      <td>0.117964</td>\n      <td>0.206271</td>\n      <td>0.000554185</td>\n      <td>0.0069107</td>\n      <td>0</td>\n      <td>12038.8</td>\n      <td>0.00319814</td>\n    </tr>\n    <tr>\n      <th>4</th>\n      <td>8.61822</td>\n      <td>7.29712e-06</td>\n      <td>0.00315172</td>\n      <td>0.082303</td>\n      <td>1.84623e+07</td>\n      <td>0.321158</td>\n      <td>0.336062</td>\n      <td>0.00063456</td>\n      <td>0.0142708</td>\n      <td>0</td>\n      <td>141540</td>\n      <td>0.000248849</td>\n    </tr>\n    <tr>\n      <th>5</th>\n      <td>0.183293</td>\n      <td>9.72129e-07</td>\n      <td>2.04037e-05</td>\n      <td>0.0078426</td>\n      <td>1.15881e+06</td>\n      <td>0.00601201</td>\n      <td>0.235388</td>\n      <td>0.000329829</td>\n      <td>0.0063242</td>\n      <td>0</td>\n      <td>21287.8</td>\n      <td>4.65595e-05</td>\n    </tr>\n  </tbody>\n</table>\n</div>"
     },
     "metadata": {},
     "execution_count": 141
    }
   ],
   "source": [
    "test1 = test_data1.iloc[:,3:]\n",
    "test2 = test_data2.iloc[:,2:]\n",
    "#test_x = pd.concat([test1,test2],axis=1,ignore_index=True)\n",
    "test_x = test_data2.iloc[:,3:]\n",
    "test_x.iloc[:5]"
   ]
  },
  {
   "cell_type": "code",
   "execution_count": 102,
   "metadata": {},
   "outputs": [
    {
     "output_type": "execute_result",
     "data": {
      "text/plain": "    0   1    2   3   4    6   7    8         9        10  ...         12  \\\n1   23   3   21  29  29   52  32   21         0  47.7849  ...          0   \n2   74  13   71   9   9   83  22   71         0  49.5286  ...          0   \n3  255  80  205  17  17  272  97  205  0.462508  356.919  ...  0.0508183   \n4  511  32  506  36  36  547  68  506  0.178805  1223.15  ...  0.0148185   \n5   21   5   18  46  46   67  51   18         0  75.4785  ...          0   \n\n      13    14           15           16         23           24           25  \\\n1    667    27            0            0   0.139785   0.00110861   0.00475634   \n2    666    31            0            0  0.0680789  5.10988e-05  0.000454739   \n3   4335   356   0.00462379  0.000692042   0.206271  0.000554185    0.0069107   \n4  18396  1847  2.80927e-05  0.000108719   0.336062   0.00063456    0.0142708   \n5    966    54            0            0   0.235388  0.000329829    0.0063242   \n\n        27           28  \n1  7611.81  0.000973567  \n2  9233.75   0.00214473  \n3  12038.8   0.00319814  \n4   141540  0.000248849  \n5  21287.8  4.65595e-05  \n\n[5 rows x 21 columns]",
      "text/html": "<div>\n<style scoped>\n    .dataframe tbody tr th:only-of-type {\n        vertical-align: middle;\n    }\n\n    .dataframe tbody tr th {\n        vertical-align: top;\n    }\n\n    .dataframe thead th {\n        text-align: right;\n    }\n</style>\n<table border=\"1\" class=\"dataframe\">\n  <thead>\n    <tr style=\"text-align: right;\">\n      <th></th>\n      <th>0</th>\n      <th>1</th>\n      <th>2</th>\n      <th>3</th>\n      <th>4</th>\n      <th>6</th>\n      <th>7</th>\n      <th>8</th>\n      <th>9</th>\n      <th>10</th>\n      <th>...</th>\n      <th>12</th>\n      <th>13</th>\n      <th>14</th>\n      <th>15</th>\n      <th>16</th>\n      <th>23</th>\n      <th>24</th>\n      <th>25</th>\n      <th>27</th>\n      <th>28</th>\n    </tr>\n  </thead>\n  <tbody>\n    <tr>\n      <th>1</th>\n      <td>23</td>\n      <td>3</td>\n      <td>21</td>\n      <td>29</td>\n      <td>29</td>\n      <td>52</td>\n      <td>32</td>\n      <td>21</td>\n      <td>0</td>\n      <td>47.7849</td>\n      <td>...</td>\n      <td>0</td>\n      <td>667</td>\n      <td>27</td>\n      <td>0</td>\n      <td>0</td>\n      <td>0.139785</td>\n      <td>0.00110861</td>\n      <td>0.00475634</td>\n      <td>7611.81</td>\n      <td>0.000973567</td>\n    </tr>\n    <tr>\n      <th>2</th>\n      <td>74</td>\n      <td>13</td>\n      <td>71</td>\n      <td>9</td>\n      <td>9</td>\n      <td>83</td>\n      <td>22</td>\n      <td>71</td>\n      <td>0</td>\n      <td>49.5286</td>\n      <td>...</td>\n      <td>0</td>\n      <td>666</td>\n      <td>31</td>\n      <td>0</td>\n      <td>0</td>\n      <td>0.0680789</td>\n      <td>5.10988e-05</td>\n      <td>0.000454739</td>\n      <td>9233.75</td>\n      <td>0.00214473</td>\n    </tr>\n    <tr>\n      <th>3</th>\n      <td>255</td>\n      <td>80</td>\n      <td>205</td>\n      <td>17</td>\n      <td>17</td>\n      <td>272</td>\n      <td>97</td>\n      <td>205</td>\n      <td>0.462508</td>\n      <td>356.919</td>\n      <td>...</td>\n      <td>0.0508183</td>\n      <td>4335</td>\n      <td>356</td>\n      <td>0.00462379</td>\n      <td>0.000692042</td>\n      <td>0.206271</td>\n      <td>0.000554185</td>\n      <td>0.0069107</td>\n      <td>12038.8</td>\n      <td>0.00319814</td>\n    </tr>\n    <tr>\n      <th>4</th>\n      <td>511</td>\n      <td>32</td>\n      <td>506</td>\n      <td>36</td>\n      <td>36</td>\n      <td>547</td>\n      <td>68</td>\n      <td>506</td>\n      <td>0.178805</td>\n      <td>1223.15</td>\n      <td>...</td>\n      <td>0.0148185</td>\n      <td>18396</td>\n      <td>1847</td>\n      <td>2.80927e-05</td>\n      <td>0.000108719</td>\n      <td>0.336062</td>\n      <td>0.00063456</td>\n      <td>0.0142708</td>\n      <td>141540</td>\n      <td>0.000248849</td>\n    </tr>\n    <tr>\n      <th>5</th>\n      <td>21</td>\n      <td>5</td>\n      <td>18</td>\n      <td>46</td>\n      <td>46</td>\n      <td>67</td>\n      <td>51</td>\n      <td>18</td>\n      <td>0</td>\n      <td>75.4785</td>\n      <td>...</td>\n      <td>0</td>\n      <td>966</td>\n      <td>54</td>\n      <td>0</td>\n      <td>0</td>\n      <td>0.235388</td>\n      <td>0.000329829</td>\n      <td>0.0063242</td>\n      <td>21287.8</td>\n      <td>4.65595e-05</td>\n    </tr>\n  </tbody>\n</table>\n<p>5 rows × 21 columns</p>\n</div>"
     },
     "metadata": {},
     "execution_count": 102
    }
   ],
   "source": [
    "#test_x = test_x.drop([5,9,10,11,12,13,14,15,17,18,19,21,22,23,26],axis=1)\n",
    "#test_x = test_x.drop([5,17,18,19,20,21,22,26],axis=1)\n",
    "#test_x.iloc[:5]"
   ]
  },
  {
   "cell_type": "code",
   "execution_count": 142,
   "metadata": {
    "tags": []
   },
   "outputs": [
    {
     "output_type": "stream",
     "name": "stdout",
     "text": "test shape: (2000, 12)\n[-0.03053658 -0.23081383 -0.42711944 -0.4066574  -0.05150469 -0.02006503\n -0.03340191 -0.29370497 -0.50401396 -0.24608051 -0.02877678 -0.0269635 ]\n"
    }
   ],
   "source": [
    "test_x = scaler.transform(test_x)\n",
    "#test_x = pca.transform(test_x)\n",
    "print('test shape:',test_x.shape)\n",
    "print(test_x[0])"
   ]
  },
  {
   "cell_type": "code",
   "execution_count": 129,
   "metadata": {},
   "outputs": [],
   "source": [
    "test_pred = grid_search.predict(test_x)"
   ]
  },
  {
   "cell_type": "code",
   "execution_count": 144,
   "metadata": {},
   "outputs": [],
   "source": [
    "test_pred = rf.predict_proba(test_x)[:,1]"
   ]
  },
  {
   "cell_type": "code",
   "execution_count": 145,
   "metadata": {},
   "outputs": [
    {
     "output_type": "execute_result",
     "data": {
      "text/plain": "array([0.  , 0.  , 0.17, ..., 0.  , 0.  , 0.  ])"
     },
     "metadata": {},
     "execution_count": 145
    }
   ],
   "source": [
    "test_pred"
   ]
  },
  {
   "cell_type": "code",
   "execution_count": 146,
   "metadata": {
    "tags": []
   },
   "outputs": [
    {
     "output_type": "stream",
     "name": "stdout",
     "text": "./results/rf_12_features_prediction_clf.csv saved...\n"
    }
   ],
   "source": [
    "results = []\n",
    "cnt = 1\n",
    "for y in test_pred:\n",
    "    results.append((cnt,y))\n",
    "    cnt += 1\n",
    "\n",
    "# save results\n",
    "save_as_csv(results,'./results/rf_12_features_prediction_clf.csv')"
   ]
  },
  {
   "cell_type": "code",
   "execution_count": null,
   "metadata": {},
   "outputs": [],
   "source": []
  }
 ],
 "metadata": {
  "language_info": {
   "codemirror_mode": {
    "name": "ipython",
    "version": 3
   },
   "file_extension": ".py",
   "mimetype": "text/x-python",
   "name": "python",
   "nbconvert_exporter": "python",
   "pygments_lexer": "ipython3",
   "version": "3.8.3-final"
  },
  "orig_nbformat": 2,
  "kernelspec": {
   "name": "python3",
   "display_name": "Python 3"
  }
 },
 "nbformat": 4,
 "nbformat_minor": 2
}